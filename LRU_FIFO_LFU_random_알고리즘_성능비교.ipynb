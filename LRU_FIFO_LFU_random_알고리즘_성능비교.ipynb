{
 "cells": [
  {
   "cell_type": "markdown",
   "metadata": {},
   "source": [
    "# LRU 알고리즘"
   ]
  },
  {
   "cell_type": "code",
   "execution_count": 33,
   "metadata": {},
   "outputs": [],
   "source": [
    "def LRU(inputlist,stacklimit):\n",
    "    import time\n",
    "    \n",
    "    start = time.time()\n",
    "    stacklist=[]\n",
    "    count=0\n",
    "    for i in range(len(inputlist)):\n",
    "        if(i==0):\n",
    "            stacklist.append(inputlist[0])\n",
    "    \n",
    "        \n",
    "        elif(len(stacklist)<stacklimit):\n",
    "            \n",
    "            if(inputlist[i] in stacklist):\n",
    "                count+=1#적중\n",
    "            else:\n",
    "                stacklist.append(inputlist[i])\n",
    "                \n",
    "        else:#stack limit차있으면\n",
    "\n",
    "            if(inputlist[i] in stacklist):#적중\n",
    "                stacklist.remove(inputlist[i])\n",
    "                stacklist.insert(stacklimit-1,inputlist[i])\n",
    "                count+=1\n",
    "             \n",
    "            else:\n",
    "                stacklist.pop(0)\n",
    "                stacklist.insert(stacklimit-1,inputlist[i])\n",
    "        \n",
    "        print(i,inputlist[i], stacklist)\n",
    "\n",
    "    return (count/len(inputlist))*100,time.time()-start\n",
    "            \n",
    "        \n",
    "        \n"
   ]
  },
  {
   "cell_type": "markdown",
   "metadata": {},
   "source": [
    "# FIFO알고리즘"
   ]
  },
  {
   "cell_type": "code",
   "execution_count": 34,
   "metadata": {},
   "outputs": [],
   "source": [
    "def FIFO(inputlist,stacklimit):\n",
    "    \n",
    "    import time\n",
    "    start = time.time()\n",
    "    stacklist=[]\n",
    "    count=0\n",
    "    \n",
    "    for i in range(len(inputlist)):\n",
    "        \n",
    "        if(i==0):        \n",
    "            stacklist.append(inputlist[0])\n",
    "            \n",
    "        elif(len(stacklist)<stacklimit):\n",
    "            \n",
    "            if(inputlist[i] in stacklist):\n",
    "                count+=1\n",
    "            else:\n",
    "                stacklist.append(inputlist[i])\n",
    "\n",
    "        else:#stack limit차있으면\n",
    "            if(inputlist[i] in stacklist):#적중\n",
    "                   \n",
    "                count+=1\n",
    "            else:\n",
    "                stacklist.pop(0)\n",
    "            \n",
    "                stacklist.append(inputlist[i])\n",
    "                \n",
    "        print(i,inputlist[i], stacklist)\n",
    "       \n",
    "    return (count/len(inputlist))*100,time.time()-start\n",
    "            \n",
    "        \n",
    "        "
   ]
  },
  {
   "cell_type": "markdown",
   "metadata": {},
   "source": [
    "# LFU알고리즘"
   ]
  },
  {
   "cell_type": "code",
   "execution_count": 35,
   "metadata": {},
   "outputs": [],
   "source": [
    "def LFU(inputlist,stacklimit):\n",
    "    \n",
    "    import time\n",
    "    start = time.time()\n",
    "    \n",
    "    stacklist=[]\n",
    "    countlist=[]\n",
    "    count=0\n",
    "    for i in range(len(inputlist)):\n",
    "        if(i==0):        \n",
    "            stacklist.append(inputlist[0])\n",
    "            countlist.append(1)\n",
    "        elif(len(stacklist)<stacklimit):\n",
    "         \n",
    "            if(inputlist[i] in stacklist):\n",
    "                #적중한다면 그 stacklist넣어주기\n",
    "                tempnumberindex=stacklist.index(inputlist[i])\n",
    "                countlist[tempnumberindex]+=1\n",
    "                count+=1\n",
    "            else:\n",
    "                #적중하지않는다면 \n",
    "                stacklist.append(inputlist[i])\n",
    "                countlist.append(1)\n",
    "\n",
    "        else:#stack limit차있으면\n",
    "\n",
    "            if(inputlist[i] in stacklist):#적중\n",
    "                tempnumberindex=stacklist.index(inputlist[i])\n",
    "                countlist[tempnumberindex]+=1\n",
    "                count+=1\n",
    "            else:\n",
    "                lowindex=countlist.index(min(countlist))\n",
    "                stacklist.pop(lowindex)\n",
    "                stacklist.insert(lowindex,inputlist[i])\n",
    "                countlist[lowindex]=1\n",
    "        print(i,inputlist[i],\"stack\", stacklist,\"count\",countlist)\n",
    "    return (count/len(inputlist))*100,time.time()-start"
   ]
  },
  {
   "cell_type": "markdown",
   "metadata": {},
   "source": [
    "# random 알고리즘"
   ]
  },
  {
   "cell_type": "code",
   "execution_count": 37,
   "metadata": {},
   "outputs": [],
   "source": [
    "def random(inputlist,stacklimit):\n",
    "    import time\n",
    "    import random\n",
    "    start = time.time()\n",
    "    stacklist=[]\n",
    "    count=0\n",
    "    flag=0\n",
    "    temp2=-1\n",
    "    for i in range(len(inputlist)):\n",
    "        if(len(stacklist)<stacklimit):\n",
    "            if(i==0):\n",
    "                stacklist.append(inputlist[i])\n",
    "            else:\n",
    "                if(inputlist[i] in stacklist):\n",
    "                    flag=1\n",
    "                    count+=1\n",
    "                else:\n",
    "                    flag=0\n",
    "                    stacklist.append(inputlist[i])\n",
    "\n",
    "        else:#stack limit차있으면\n",
    "\n",
    "            if(inputlist[i] in stacklist):#적중\n",
    "                count+=1\n",
    "                flag=1\n",
    "            else:\n",
    "                temp2=random.randrange(0,stacklimit)\n",
    "            \n",
    "                stacklist.pop(temp2)\n",
    "                flag=0\n",
    "                stacklist.append(inputlist[i])\n",
    "\n",
    "        print(i,inputlist[i],stacklist)\n",
    "            \n",
    "    return (count/len(inputlist))*100,time.time()-start\n"
   ]
  },
  {
   "cell_type": "markdown",
   "metadata": {},
   "source": [
    "# 대체알고리즘 LFRU"
   ]
  },
  {
   "cell_type": "code",
   "execution_count": 38,
   "metadata": {},
   "outputs": [],
   "source": [
    "def pow_(n):\n",
    "    return pow(0.5, 0.5 * n)\n"
   ]
  },
  {
   "cell_type": "code",
   "execution_count": 39,
   "metadata": {},
   "outputs": [],
   "source": [
    "def lfru_find(vec,n):\n",
    "    check = False\n",
    "    if (n in vec):\n",
    "        check = True; #//적중\n",
    "    #print(check)\n",
    "    return check"
   ]
  },
  {
   "cell_type": "code",
   "execution_count": 40,
   "metadata": {},
   "outputs": [],
   "source": [
    "def lfru_change(vec,vec2,n,stacklimit):\n",
    "    mina = 100.0\n",
    "    change_num = -1\n",
    "    find_lfru = []\n",
    "    a=0\n",
    "    #print(len(vec),len(vec2),\"vec vec2\")\n",
    "    #print(vec,vec2,\"vec\",\"vec2list\")\n",
    "    for i in range(stacklimit): \n",
    "         find_lfru.append(0.0)\n",
    "    for j in range(stacklimit):  \n",
    "        for i in range(len(vec2)):\n",
    "            if (vec2[i] == vec[j]):\n",
    "                find_lfru.append(pow_(len(vec2) - i))\n",
    "     \n",
    "\n",
    "    for j in range(len(vec)):  \n",
    "        if (find_lfru[j] != 0.0):\n",
    "            if (find_lfru[j] < mina):\n",
    "                change_num = j\n",
    "                mina = find_lfru[j]\n",
    "                \n",
    "    if(change_num!=-1):\n",
    "        a+=change_num\n",
    "    vec.pop(a)"
   ]
  },
  {
   "cell_type": "code",
   "execution_count": 41,
   "metadata": {},
   "outputs": [],
   "source": [
    "def LFRU(inputlist,stacklimit):\n",
    "    import time\n",
    "    start = time.time()\n",
    "    vec=[]\n",
    "    find_num=0\n",
    "    vec2=[]\n",
    " \n",
    "    for i in range(len(inputlist)): \n",
    "        if(len(vec)==0):\n",
    "            vec.append(inputlist[i])\n",
    "            print(vec)\n",
    "            \n",
    "        else:\n",
    "      \n",
    "            if (lfru_find(vec,inputlist[i])==False):\n",
    "                if (len(vec) < stacklimit):\n",
    "                    vec.append(inputlist[i])\n",
    "                    print(vec)\n",
    "                 \n",
    "\n",
    "                else:\n",
    "                    lfru_change(vec,vec2,inputlist[i],stacklimit)\n",
    "                    vec.append(inputlist[i])\n",
    "                    print(vec);            \n",
    "\n",
    "            else:\n",
    "                find_num+=1;\n",
    "\n",
    "        vec2.append(inputlist[i]);\n",
    "    return (find_num/len(inputlist))*100,time.time()-start\n",
    "    \n",
    "\n"
   ]
  },
  {
   "cell_type": "markdown",
   "metadata": {},
   "source": [
    "# slot의 크기와 숫자 패턴입력 부분"
   ]
  },
  {
   "cell_type": "code",
   "execution_count": 43,
   "metadata": {},
   "outputs": [
    {
     "name": "stdout",
     "output_type": "stream",
     "text": [
      "한칸씩 텀을두고 숫자를 입력해주세요 ex) 1 2 3 4 5 6\n",
      "3 2 4 5 3 3 2 3\n",
      "슬롯의 크기3\n"
     ]
    }
   ],
   "source": [
    "print(\"한칸씩 텀을두고 숫자를 입력해주세요 ex) 1 2 3 4 5 6\")\n",
    "inputlist=list(map(int,input().split()))\n",
    "stacklimit=int(input(\"슬롯의 크기\"))"
   ]
  },
  {
   "cell_type": "markdown",
   "metadata": {},
   "source": [
    "# LRU 알고리즘 "
   ]
  },
  {
   "cell_type": "code",
   "execution_count": 44,
   "metadata": {},
   "outputs": [
    {
     "name": "stdout",
     "output_type": "stream",
     "text": [
      "0 3 [3]\n",
      "1 2 [3, 2]\n",
      "2 4 [3, 2, 4]\n",
      "3 5 [2, 4, 5]\n",
      "4 3 [4, 5, 3]\n",
      "5 3 [4, 5, 3]\n",
      "6 2 [5, 3, 2]\n",
      "7 3 [5, 2, 3]\n"
     ]
    },
    {
     "data": {
      "text/plain": [
       "(25.0, 0.0009531974792480469)"
      ]
     },
     "execution_count": 44,
     "metadata": {},
     "output_type": "execute_result"
    }
   ],
   "source": [
    "LRU(inputlist,stacklimit)"
   ]
  },
  {
   "cell_type": "markdown",
   "metadata": {},
   "source": [
    "# FIFO 알고리즘"
   ]
  },
  {
   "cell_type": "code",
   "execution_count": 45,
   "metadata": {},
   "outputs": [
    {
     "name": "stdout",
     "output_type": "stream",
     "text": [
      "0 3 [3]\n",
      "1 2 [3, 2]\n",
      "2 4 [3, 2, 4]\n",
      "3 5 [2, 4, 5]\n",
      "4 3 [4, 5, 3]\n",
      "5 3 [4, 5, 3]\n",
      "6 2 [5, 3, 2]\n",
      "7 3 [5, 3, 2]\n"
     ]
    },
    {
     "data": {
      "text/plain": [
       "(25.0, 0.0006086826324462891)"
      ]
     },
     "execution_count": 45,
     "metadata": {},
     "output_type": "execute_result"
    }
   ],
   "source": [
    "FIFO(inputlist,stacklimit)"
   ]
  },
  {
   "cell_type": "markdown",
   "metadata": {},
   "source": [
    "# LFU 알고리즘"
   ]
  },
  {
   "cell_type": "code",
   "execution_count": 46,
   "metadata": {},
   "outputs": [
    {
     "name": "stdout",
     "output_type": "stream",
     "text": [
      "0 3 stack [3] count [1]\n",
      "1 2 stack [3, 2] count [1, 1]\n",
      "2 4 stack [3, 2, 4] count [1, 1, 1]\n",
      "3 5 stack [5, 2, 4] count [1, 1, 1]\n",
      "4 3 stack [3, 2, 4] count [1, 1, 1]\n",
      "5 3 stack [3, 2, 4] count [2, 1, 1]\n",
      "6 2 stack [3, 2, 4] count [2, 2, 1]\n",
      "7 3 stack [3, 2, 4] count [3, 2, 1]\n"
     ]
    },
    {
     "data": {
      "text/plain": [
       "(37.5, 0.0010099411010742188)"
      ]
     },
     "execution_count": 46,
     "metadata": {},
     "output_type": "execute_result"
    }
   ],
   "source": [
    "LFU(inputlist,stacklimit)"
   ]
  },
  {
   "cell_type": "markdown",
   "metadata": {},
   "source": [
    "# random 알고리즘"
   ]
  },
  {
   "cell_type": "code",
   "execution_count": 47,
   "metadata": {},
   "outputs": [
    {
     "name": "stdout",
     "output_type": "stream",
     "text": [
      "0 3 [3]\n",
      "1 2 [3, 2]\n",
      "2 4 [3, 2, 4]\n",
      "3 5 [3, 2, 5]\n",
      "4 3 [3, 2, 5]\n",
      "5 3 [3, 2, 5]\n",
      "6 2 [3, 2, 5]\n",
      "7 3 [3, 2, 5]\n"
     ]
    },
    {
     "data": {
      "text/plain": [
       "(50.0, 0.0008130073547363281)"
      ]
     },
     "execution_count": 47,
     "metadata": {},
     "output_type": "execute_result"
    }
   ],
   "source": [
    "random(inputlist,stacklimit)"
   ]
  },
  {
   "cell_type": "markdown",
   "metadata": {},
   "source": [
    "# LFRU 알고리즘"
   ]
  },
  {
   "cell_type": "code",
   "execution_count": 48,
   "metadata": {},
   "outputs": [
    {
     "name": "stdout",
     "output_type": "stream",
     "text": [
      "[3]\n",
      "[3, 2]\n",
      "[3, 2, 4]\n",
      "[2, 4, 5]\n",
      "[4, 5, 3]\n",
      "[5, 3, 2]\n"
     ]
    },
    {
     "data": {
      "text/plain": [
       "(25.0, 0.0004830360412597656)"
      ]
     },
     "execution_count": 48,
     "metadata": {},
     "output_type": "execute_result"
    }
   ],
   "source": [
    "LFRU(inputlist,stacklimit)"
   ]
  },
  {
   "cell_type": "markdown",
   "metadata": {},
   "source": [
    "# timetable insert함수"
   ]
  },
  {
   "cell_type": "code",
   "execution_count": 16,
   "metadata": {},
   "outputs": [],
   "source": [
    "import pandas as pd\n",
    "timetable = [[0,0,0,0,0],[0,0,0,0,0],[0,0,0,0,0],[0,0,0,0,0],[0,0,0,0,0]]\n",
    "hitratio=[[0,0,0,0,0],[0,0,0,0,0],[0,0,0,0,0],[0,0,0,0,0],[0,0,0,0,0]]\n",
    " "
   ]
  },
  {
   "cell_type": "code",
   "execution_count": 17,
   "metadata": {},
   "outputs": [
    {
     "data": {
      "text/plain": [
       "[[0, 0, 0, 0, 0],\n",
       " [0, 0, 0, 0, 0],\n",
       " [0, 0, 0, 0, 0],\n",
       " [0, 0, 0, 0, 0],\n",
       " [0, 0, 0, 0, 0]]"
      ]
     },
     "execution_count": 17,
     "metadata": {},
     "output_type": "execute_result"
    }
   ],
   "source": [
    "timetable"
   ]
  },
  {
   "cell_type": "code",
   "execution_count": 49,
   "metadata": {},
   "outputs": [],
   "source": [
    "def timetableinsert(inputlist,stacklimit):\n",
    "    LRU_hitratio,LRU_timecheck=LRU(inputlist,stacklimit)\n",
    "    FIFO_hitratio,FIFO_timecheck=FIFO(inputlist,stacklimit)\n",
    "    LFU_hitratio,LFU_timecheck=LFU(inputlist,stacklimit)\n",
    "    RAN_hitratio,RAN_timecheck=random(inputlist,stacklimit)\n",
    "    LFRU_hitratio,LFRU_timecheck=LFRU(inputlist,stacklimit)\n",
    "    print()\n",
    "    #print(LRU_timecheck,FIFO_timecheck,LFU_timecheck,RAN_timecheck)\n",
    "    if(stacklimit==2):\n",
    "        hitratio[0][0]=LRU_hitratio\n",
    "        hitratio[0][1]=FIFO_hitratio\n",
    "        hitratio[0][2]=LFU_hitratio\n",
    "        hitratio[0][3]=RAN_hitratio\n",
    "        hitratio[0][4]=LFRU_hitratio\n",
    "        timetable[0][0]=LRU_timecheck\n",
    "        timetable[0][1]=FIFO_timecheck\n",
    "        timetable[0][2]=LFU_timecheck\n",
    "        timetable[0][3]=RAN_timecheck\n",
    "        timetable[0][4]=LFRU_timecheck\n",
    "    \n",
    "    elif(stacklimit==3):\n",
    "        hitratio[1][0]=LRU_hitratio\n",
    "        hitratio[1][1]=FIFO_hitratio\n",
    "        hitratio[1][2]=LFU_hitratio\n",
    "        hitratio[1][3]=RAN_hitratio\n",
    "        hitratio[1][4]=LFRU_hitratio\n",
    "        timetable[1][0]=LRU_timecheck\n",
    "\n",
    "        timetable[1][1]=FIFO_timecheck\n",
    "\n",
    "        timetable[1][2]=LFU_timecheck\n",
    "\n",
    "        timetable[1][3]=RAN_timecheck\n",
    "        \n",
    "        timetable[1][4]=LFRU_timecheck\n",
    "    elif(stacklimit==4):\n",
    "        hitratio[2][0]=LRU_hitratio\n",
    "        hitratio[2][1]=FIFO_hitratio\n",
    "        hitratio[2][2]=LFU_hitratio\n",
    "        hitratio[2][3]=RAN_hitratio\n",
    "        hitratio[2][4]=LFRU_hitratio\n",
    "        timetable[2][0]=LRU_timecheck\n",
    "\n",
    "        timetable[2][1]=FIFO_timecheck\n",
    "\n",
    "        timetable[2][2]=LFU_timecheck\n",
    "\n",
    "        timetable[2][3]=RAN_timecheck\n",
    "\n",
    "        timetable[2][4]=LFRU_timecheck\n",
    "    \n",
    "    elif(stacklimit==5):\n",
    "        hitratio[3][0]=LRU_hitratio\n",
    "        hitratio[3][1]=FIFO_hitratio\n",
    "        hitratio[3][2]=LFU_hitratio\n",
    "        hitratio[3][3]=RAN_hitratio\n",
    "        hitratio[3][4]=LFRU_hitratio\n",
    "        timetable[3][0]=LRU_timecheck\n",
    "\n",
    "        timetable[3][1]=FIFO_timecheck\n",
    "\n",
    "        timetable[3][2]=LFU_timecheck\n",
    "\n",
    "        timetable[3][3]=RAN_timecheck\n",
    "        timetable[3][4]=LFRU_timecheck\n",
    "\n",
    "    \n",
    "    elif (stacklimit==6):\n",
    "        hitratio[4][0]=LRU_hitratio\n",
    "        hitratio[4][1]=FIFO_hitratio\n",
    "        hitratio[4][2]=LFU_hitratio\n",
    "        hitratio[4][3]=RAN_hitratio\n",
    "        hitratio[4][4]=LFRU_hitratio\n",
    "        timetable[4][0]=LRU_timecheck\n",
    "        timetable[4][1]=FIFO_timecheck\n",
    "\n",
    "        timetable[4][2]=LFU_timecheck\n",
    "\n",
    "        timetable[4][3]=RAN_timecheck\n",
    "        timetable[4][4]=LFRU_timecheck\n"
   ]
  },
  {
   "cell_type": "markdown",
   "metadata": {},
   "source": [
    "# timetable insert"
   ]
  },
  {
   "cell_type": "code",
   "execution_count": 50,
   "metadata": {},
   "outputs": [
    {
     "name": "stdout",
     "output_type": "stream",
     "text": [
      "한칸씩 텀을두고 숫자를 입력해주세요 ex) 1 2 3 4 5 6\n",
      "3 3 2 3 4 3 2\n",
      "0 3 [3]\n",
      "1 3 [3]\n",
      "2 2 [3, 2]\n",
      "3 3 [2, 3]\n",
      "4 4 [3, 4]\n",
      "5 3 [4, 3]\n",
      "6 2 [3, 2]\n",
      "0 3 [3]\n",
      "1 3 [3]\n",
      "2 2 [3, 2]\n",
      "3 3 [3, 2]\n",
      "4 4 [2, 4]\n",
      "5 3 [4, 3]\n",
      "6 2 [3, 2]\n",
      "0 3 stack [3] count [1]\n",
      "1 3 stack [3] count [2]\n",
      "2 2 stack [3, 2] count [2, 1]\n",
      "3 3 stack [3, 2] count [3, 1]\n",
      "4 4 stack [3, 4] count [3, 1]\n",
      "5 3 stack [3, 4] count [4, 1]\n",
      "6 2 stack [3, 2] count [4, 1]\n",
      "0 3 [3]\n",
      "1 3 [3]\n",
      "2 2 [3, 2]\n",
      "3 3 [3, 2]\n",
      "4 4 [2, 4]\n",
      "5 3 [2, 3]\n",
      "6 2 [2, 3]\n",
      "[3]\n",
      "[3, 2]\n",
      "[2, 4]\n",
      "[4, 3]\n",
      "[3, 2]\n",
      "\n",
      "0 3 [3]\n",
      "1 3 [3]\n",
      "2 2 [3, 2]\n",
      "3 3 [3, 2]\n",
      "4 4 [3, 2, 4]\n",
      "5 3 [2, 4, 3]\n",
      "6 2 [4, 3, 2]\n",
      "0 3 [3]\n",
      "1 3 [3]\n",
      "2 2 [3, 2]\n",
      "3 3 [3, 2]\n",
      "4 4 [3, 2, 4]\n",
      "5 3 [3, 2, 4]\n",
      "6 2 [3, 2, 4]\n",
      "0 3 stack [3] count [1]\n",
      "1 3 stack [3] count [2]\n",
      "2 2 stack [3, 2] count [2, 1]\n",
      "3 3 stack [3, 2] count [3, 1]\n",
      "4 4 stack [3, 2, 4] count [3, 1, 1]\n",
      "5 3 stack [3, 2, 4] count [4, 1, 1]\n",
      "6 2 stack [3, 2, 4] count [4, 2, 1]\n",
      "0 3 [3]\n",
      "1 3 [3]\n",
      "2 2 [3, 2]\n",
      "3 3 [3, 2]\n",
      "4 4 [3, 2, 4]\n",
      "5 3 [3, 2, 4]\n",
      "6 2 [3, 2, 4]\n",
      "[3]\n",
      "[3, 2]\n",
      "[3, 2, 4]\n",
      "\n",
      "0 3 [3]\n",
      "1 3 [3]\n",
      "2 2 [3, 2]\n",
      "3 3 [3, 2]\n",
      "4 4 [3, 2, 4]\n",
      "5 3 [3, 2, 4]\n",
      "6 2 [3, 2, 4]\n",
      "0 3 [3]\n",
      "1 3 [3]\n",
      "2 2 [3, 2]\n",
      "3 3 [3, 2]\n",
      "4 4 [3, 2, 4]\n",
      "5 3 [3, 2, 4]\n",
      "6 2 [3, 2, 4]\n",
      "0 3 stack [3] count [1]\n",
      "1 3 stack [3] count [2]\n",
      "2 2 stack [3, 2] count [2, 1]\n",
      "3 3 stack [3, 2] count [3, 1]\n",
      "4 4 stack [3, 2, 4] count [3, 1, 1]\n",
      "5 3 stack [3, 2, 4] count [4, 1, 1]\n",
      "6 2 stack [3, 2, 4] count [4, 2, 1]\n",
      "0 3 [3]\n",
      "1 3 [3]\n",
      "2 2 [3, 2]\n",
      "3 3 [3, 2]\n",
      "4 4 [3, 2, 4]\n",
      "5 3 [3, 2, 4]\n",
      "6 2 [3, 2, 4]\n",
      "[3]\n",
      "[3, 2]\n",
      "[3, 2, 4]\n",
      "\n",
      "0 3 [3]\n",
      "1 3 [3]\n",
      "2 2 [3, 2]\n",
      "3 3 [3, 2]\n",
      "4 4 [3, 2, 4]\n",
      "5 3 [3, 2, 4]\n",
      "6 2 [3, 2, 4]\n",
      "0 3 [3]\n",
      "1 3 [3]\n",
      "2 2 [3, 2]\n",
      "3 3 [3, 2]\n",
      "4 4 [3, 2, 4]\n",
      "5 3 [3, 2, 4]\n",
      "6 2 [3, 2, 4]\n",
      "0 3 stack [3] count [1]\n",
      "1 3 stack [3] count [2]\n",
      "2 2 stack [3, 2] count [2, 1]\n",
      "3 3 stack [3, 2] count [3, 1]\n",
      "4 4 stack [3, 2, 4] count [3, 1, 1]\n",
      "5 3 stack [3, 2, 4] count [4, 1, 1]\n",
      "6 2 stack [3, 2, 4] count [4, 2, 1]\n",
      "0 3 [3]\n",
      "1 3 [3]\n",
      "2 2 [3, 2]\n",
      "3 3 [3, 2]\n",
      "4 4 [3, 2, 4]\n",
      "5 3 [3, 2, 4]\n",
      "6 2 [3, 2, 4]\n",
      "[3]\n",
      "[3, 2]\n",
      "[3, 2, 4]\n",
      "\n",
      "0 3 [3]\n",
      "1 3 [3]\n",
      "2 2 [3, 2]\n",
      "3 3 [3, 2]\n",
      "4 4 [3, 2, 4]\n",
      "5 3 [3, 2, 4]\n",
      "6 2 [3, 2, 4]\n",
      "0 3 [3]\n",
      "1 3 [3]\n",
      "2 2 [3, 2]\n",
      "3 3 [3, 2]\n",
      "4 4 [3, 2, 4]\n",
      "5 3 [3, 2, 4]\n",
      "6 2 [3, 2, 4]\n",
      "0 3 stack [3] count [1]\n",
      "1 3 stack [3] count [2]\n",
      "2 2 stack [3, 2] count [2, 1]\n",
      "3 3 stack [3, 2] count [3, 1]\n",
      "4 4 stack [3, 2, 4] count [3, 1, 1]\n",
      "5 3 stack [3, 2, 4] count [4, 1, 1]\n",
      "6 2 stack [3, 2, 4] count [4, 2, 1]\n",
      "0 3 [3]\n",
      "1 3 [3]\n",
      "2 2 [3, 2]\n",
      "3 3 [3, 2]\n",
      "4 4 [3, 2, 4]\n",
      "5 3 [3, 2, 4]\n",
      "6 2 [3, 2, 4]\n",
      "[3]\n",
      "[3, 2]\n",
      "[3, 2, 4]\n",
      "\n"
     ]
    }
   ],
   "source": [
    "print(\"한칸씩 텀을두고 숫자를 입력해주세요 ex) 1 2 3 4 5 6\")\n",
    "inputlist=list(map(int,input().split()))\n",
    "timetableinsert(inputlist,2)\n",
    "timetableinsert(inputlist,3)\n",
    "timetableinsert(inputlist,4)\n",
    "timetableinsert(inputlist,5)\n",
    "timetableinsert(inputlist,6)\n",
    "\n"
   ]
  },
  {
   "cell_type": "code",
   "execution_count": 51,
   "metadata": {},
   "outputs": [],
   "source": [
    "timetable_Result = pd.DataFrame(timetable, ['slot 2','slot 3','slot 4','slot 5','slot 6'],['LRU','FIFO','LFU','Random',\"LFRU\"])\n",
    "hitratio_Result = pd.DataFrame(hitratio, ['slot 2','slot 3','slot 4','slot 5','slot 6'],['LRU','FIFO','LFU','Random',\"LFRU\"])"
   ]
  },
  {
   "cell_type": "code",
   "execution_count": 52,
   "metadata": {},
   "outputs": [
    {
     "data": {
      "text/html": [
       "<div>\n",
       "<style scoped>\n",
       "    .dataframe tbody tr th:only-of-type {\n",
       "        vertical-align: middle;\n",
       "    }\n",
       "\n",
       "    .dataframe tbody tr th {\n",
       "        vertical-align: top;\n",
       "    }\n",
       "\n",
       "    .dataframe thead th {\n",
       "        text-align: right;\n",
       "    }\n",
       "</style>\n",
       "<table border=\"1\" class=\"dataframe\">\n",
       "  <thead>\n",
       "    <tr style=\"text-align: right;\">\n",
       "      <th></th>\n",
       "      <th>LRU</th>\n",
       "      <th>FIFO</th>\n",
       "      <th>LFU</th>\n",
       "      <th>Random</th>\n",
       "      <th>LFRU</th>\n",
       "    </tr>\n",
       "  </thead>\n",
       "  <tbody>\n",
       "    <tr>\n",
       "      <th>slot 2</th>\n",
       "      <td>0.000374</td>\n",
       "      <td>0.000260</td>\n",
       "      <td>0.001266</td>\n",
       "      <td>0.000244</td>\n",
       "      <td>0.000096</td>\n",
       "    </tr>\n",
       "    <tr>\n",
       "      <th>slot 3</th>\n",
       "      <td>0.000469</td>\n",
       "      <td>0.000272</td>\n",
       "      <td>0.000736</td>\n",
       "      <td>0.000380</td>\n",
       "      <td>0.000048</td>\n",
       "    </tr>\n",
       "    <tr>\n",
       "      <th>slot 4</th>\n",
       "      <td>0.000279</td>\n",
       "      <td>0.000459</td>\n",
       "      <td>0.000540</td>\n",
       "      <td>0.000275</td>\n",
       "      <td>0.000197</td>\n",
       "    </tr>\n",
       "    <tr>\n",
       "      <th>slot 5</th>\n",
       "      <td>0.000279</td>\n",
       "      <td>0.000274</td>\n",
       "      <td>0.000736</td>\n",
       "      <td>0.000288</td>\n",
       "      <td>0.000046</td>\n",
       "    </tr>\n",
       "    <tr>\n",
       "      <th>slot 6</th>\n",
       "      <td>0.000278</td>\n",
       "      <td>0.000506</td>\n",
       "      <td>0.000651</td>\n",
       "      <td>0.000471</td>\n",
       "      <td>0.000059</td>\n",
       "    </tr>\n",
       "  </tbody>\n",
       "</table>\n",
       "</div>"
      ],
      "text/plain": [
       "             LRU      FIFO       LFU    Random      LFRU\n",
       "slot 2  0.000374  0.000260  0.001266  0.000244  0.000096\n",
       "slot 3  0.000469  0.000272  0.000736  0.000380  0.000048\n",
       "slot 4  0.000279  0.000459  0.000540  0.000275  0.000197\n",
       "slot 5  0.000279  0.000274  0.000736  0.000288  0.000046\n",
       "slot 6  0.000278  0.000506  0.000651  0.000471  0.000059"
      ]
     },
     "execution_count": 52,
     "metadata": {},
     "output_type": "execute_result"
    }
   ],
   "source": [
    "timetable_Result"
   ]
  },
  {
   "cell_type": "code",
   "execution_count": 53,
   "metadata": {},
   "outputs": [
    {
     "data": {
      "text/html": [
       "<div>\n",
       "<style scoped>\n",
       "    .dataframe tbody tr th:only-of-type {\n",
       "        vertical-align: middle;\n",
       "    }\n",
       "\n",
       "    .dataframe tbody tr th {\n",
       "        vertical-align: top;\n",
       "    }\n",
       "\n",
       "    .dataframe thead th {\n",
       "        text-align: right;\n",
       "    }\n",
       "</style>\n",
       "<table border=\"1\" class=\"dataframe\">\n",
       "  <thead>\n",
       "    <tr style=\"text-align: right;\">\n",
       "      <th></th>\n",
       "      <th>LRU</th>\n",
       "      <th>FIFO</th>\n",
       "      <th>LFU</th>\n",
       "      <th>Random</th>\n",
       "      <th>LFRU</th>\n",
       "    </tr>\n",
       "  </thead>\n",
       "  <tbody>\n",
       "    <tr>\n",
       "      <th>slot 2</th>\n",
       "      <td>42.857143</td>\n",
       "      <td>28.571429</td>\n",
       "      <td>42.857143</td>\n",
       "      <td>42.857143</td>\n",
       "      <td>28.571429</td>\n",
       "    </tr>\n",
       "    <tr>\n",
       "      <th>slot 3</th>\n",
       "      <td>57.142857</td>\n",
       "      <td>57.142857</td>\n",
       "      <td>57.142857</td>\n",
       "      <td>57.142857</td>\n",
       "      <td>57.142857</td>\n",
       "    </tr>\n",
       "    <tr>\n",
       "      <th>slot 4</th>\n",
       "      <td>57.142857</td>\n",
       "      <td>57.142857</td>\n",
       "      <td>57.142857</td>\n",
       "      <td>57.142857</td>\n",
       "      <td>57.142857</td>\n",
       "    </tr>\n",
       "    <tr>\n",
       "      <th>slot 5</th>\n",
       "      <td>57.142857</td>\n",
       "      <td>57.142857</td>\n",
       "      <td>57.142857</td>\n",
       "      <td>57.142857</td>\n",
       "      <td>57.142857</td>\n",
       "    </tr>\n",
       "    <tr>\n",
       "      <th>slot 6</th>\n",
       "      <td>57.142857</td>\n",
       "      <td>57.142857</td>\n",
       "      <td>57.142857</td>\n",
       "      <td>57.142857</td>\n",
       "      <td>57.142857</td>\n",
       "    </tr>\n",
       "  </tbody>\n",
       "</table>\n",
       "</div>"
      ],
      "text/plain": [
       "              LRU       FIFO        LFU     Random       LFRU\n",
       "slot 2  42.857143  28.571429  42.857143  42.857143  28.571429\n",
       "slot 3  57.142857  57.142857  57.142857  57.142857  57.142857\n",
       "slot 4  57.142857  57.142857  57.142857  57.142857  57.142857\n",
       "slot 5  57.142857  57.142857  57.142857  57.142857  57.142857\n",
       "slot 6  57.142857  57.142857  57.142857  57.142857  57.142857"
      ]
     },
     "execution_count": 53,
     "metadata": {},
     "output_type": "execute_result"
    }
   ],
   "source": [
    "hitratio_Result"
   ]
  },
  {
   "cell_type": "markdown",
   "metadata": {},
   "source": [
    "# SLOT 별 TIME"
   ]
  },
  {
   "cell_type": "code",
   "execution_count": 54,
   "metadata": {},
   "outputs": [
    {
     "data": {
      "image/png": "[encoded data removed]",
      "text/plain": [
       "<Figure size 720x576 with 1 Axes>"
      ]
     },
     "metadata": {
      "needs_background": "light"
     },
     "output_type": "display_data"
    }
   ],
   "source": [
    "import matplotlib.pyplot as plt\n",
    "%matplotlib inline\n",
    "timetable_Result.plot(marker='o',linestyle=\"--\",figsize=(10,8))\n",
    "plt.title(\"4 algorithm SLOT Time \")\n",
    "plt.xlabel(\"SLOT\")\n",
    "plt.ylabel(\"TIME\")\n",
    "plt.show()"
   ]
  },
  {
   "cell_type": "markdown",
   "metadata": {},
   "source": [
    "# 알고리즘 별 hit ratio"
   ]
  },
  {
   "cell_type": "code",
   "execution_count": 55,
   "metadata": {},
   "outputs": [
    {
     "data": {
      "image/png": "[encoded data removed]",
      "text/plain": [
       "<Figure size 720x576 with 1 Axes>"
      ]
     },
     "metadata": {
      "needs_background": "light"
     },
     "output_type": "display_data"
    }
   ],
   "source": [
    "import matplotlib.pyplot as plt\n",
    "%matplotlib inline\n",
    "hitratio_Result.plot(marker='o',linestyle=\"--\",figsize=(10,8))\n",
    "plt.title(\"4 algorithm SLOT hit ratio\")\n",
    "plt.xlabel(\"SLOT\")\n",
    "plt.ylabel(\"hit ratio\")\n",
    "plt.show()"
   ]
  },
  {
   "cell_type": "markdown",
   "metadata": {},
   "source": [
    "# 각 알고리즘의 평균 hitratio"
   ]
  },
  {
   "cell_type": "code",
   "execution_count": 56,
   "metadata": {},
   "outputs": [
    {
     "data": {
      "image/png": "[encoded data removed]",
      "text/plain": [
       "<Figure size 1440x504 with 2 Axes>"
      ]
     },
     "metadata": {
      "needs_background": "light"
     },
     "output_type": "display_data"
    }
   ],
   "source": [
    "%matplotlib inline\n",
    "plt.subplots(figsize=(20, 7)) \n",
    "plt.subplot(1,2,1)\n",
    "\n",
    "hitratio_Result.mean().plot() \n",
    "plt.legend()\n",
    "plt.title('5 algorithm mean hitratio', fontsize=18, fontweight='bold') \n",
    "plt.ylabel(\"hit ratio\")\n",
    "plt.grid(True)\n",
    "\n",
    "\n",
    "plt.subplot(1,2,2)\n",
    "\n",
    "plt.title(\"5 algorithm hitratio boxplot\", fontsize=18, fontweight='bold')\n",
    "plt.ylabel(\"hit ratio\")\n",
    "hitratio_Result.boxplot()\n",
    "plt.show()\n",
    "\n",
    "\n"
   ]
  },
  {
   "cell_type": "markdown",
   "metadata": {},
   "source": [
    "# 각 algorithm별  평균time"
   ]
  },
  {
   "cell_type": "code",
   "execution_count": 57,
   "metadata": {},
   "outputs": [
    {
     "data": {
      "image/png": "[encoded data removed]",
      "text/plain": [
       "<Figure size 1440x504 with 2 Axes>"
      ]
     },
     "metadata": {
      "needs_background": "light"
     },
     "output_type": "display_data"
    }
   ],
   "source": [
    "%matplotlib inline\n",
    "plt.subplots(figsize=(20, 7)) \n",
    "plt.subplot(1,2,1)\n",
    "\n",
    "timetable_Result.mean().plot()\n",
    "plt.legend()\n",
    "plt.title(\"5 each algorithm mean time\", fontsize=18, fontweight='bold')        \n",
    "plt.grid(True)\n",
    "\n",
    "\n",
    "plt.subplot(1,2,2)\n",
    "\n",
    "plt.title(\"5 algorithm time boxplot\", fontsize=18, fontweight='bold')\n",
    "\n",
    "timetable_Result.boxplot()\n",
    "plt.show()\n",
    "\n",
    "\n"
   ]
  }
 ],
 "metadata": {
  "kernelspec": {
   "display_name": "Python 3",
   "language": "python",
   "name": "python3"
  },
  "language_info": {
   "codemirror_mode": {
    "name": "ipython",
    "version": 3
   },
   "file_extension": ".py",
   "mimetype": "text/x-python",
   "name": "python",
   "nbconvert_exporter": "python",
   "pygments_lexer": "ipython3",
   "version": "3.7.5"
  }
 },
 "nbformat": 4,
 "nbformat_minor": 2
}
